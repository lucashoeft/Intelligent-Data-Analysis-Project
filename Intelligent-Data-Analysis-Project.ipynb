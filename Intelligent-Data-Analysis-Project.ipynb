{
 "cells": [
  {
   "cell_type": "code",
   "execution_count": 349,
   "id": "25f36e61",
   "metadata": {},
   "outputs": [],
   "source": [
    "import pandas as pd\n",
    "import numpy as np\n",
    "import seaborn as sns\n",
    "from matplotlib import pyplot as plt\n",
    "\n",
    "%matplotlib inline\n",
    "\n",
    "# Hide Warnings\n",
    "pd.options.mode.chained_assignment = None"
   ]
  },
  {
   "cell_type": "markdown",
   "id": "cc9205bc",
   "metadata": {},
   "source": [
    "# Intelligent Data Analysis Project: Income"
   ]
  },
  {
   "cell_type": "markdown",
   "id": "196ca272",
   "metadata": {},
   "source": [
    "A polling institute wants to be able to estimate an individual’s income from his/her personal data (see einkommen.train). To this aim, 30.000 individuals were interviewed concerning the features summarized below. For some of the individuals, not all features are available. Crucially, the income of only 5.000 of the interviewee’s is known.\n",
    "\n",
    "Your task is to predict the income group of the remaining 25.000 interviewees and to prepare the data such that they can be used for further regression and correlation analyses.\n",
    "\n",
    "Load the data into Python and preprocess it. Choose adequate data transformations, normalizations etc. and decide on how to deal with missing values (marked with “?”). Consider which kinds of features the preprocessed data shall contain. Once you have preprocessed the data, train a model to predict a person’s income group and apply it to the 25.000 individuals whose income group is unknown. Identify a suitable learning method and implement it in Python. Train and evaluate the model. Provide a short documentation and motivation of each of your steps."
   ]
  },
  {
   "cell_type": "code",
   "execution_count": 322,
   "id": "2079fb3f",
   "metadata": {},
   "outputs": [],
   "source": [
    "# Import data set and add column names\n",
    "income = pd.read_csv('data/income/einkommen.train', sep=\",\", na_values = \" ?\", header=None)\n",
    "columns = [\"Age\", \"Employment type\", \"Interview-dependent\", \"Education level\", \"Schooling/training period\", \"Marital Status\", \"Employment area\", \"Partnership\", \"Ethnicity\", \"Gender\", \"Gains\", \"Losses\", \"Working time(Weekly)\", \"Country\", \"Income\"]\n",
    "income.columns = columns"
   ]
  },
  {
   "cell_type": "code",
   "execution_count": 323,
   "id": "7c45b3e8",
   "metadata": {},
   "outputs": [],
   "source": [
    "# Split data set into sets where Income is known or unknwn\n",
    "income_labeled = income[income['Income'].notnull()]\n",
    "income_unlabeled = income[income['Income'].isnull()]"
   ]
  },
  {
   "cell_type": "code",
   "execution_count": 324,
   "id": "a6479c5f",
   "metadata": {},
   "outputs": [
    {
     "data": {
      "text/plain": [
       "Age                            69\n",
       "Employment type                 7\n",
       "Interview-dependent          4603\n",
       "Education level                16\n",
       "Schooling/training period      16\n",
       "Marital Status                  7\n",
       "Employment area                14\n",
       "Partnership                     6\n",
       "Ethnicity                       5\n",
       "Gender                          2\n",
       "Gains                          83\n",
       "Losses                         55\n",
       "Working time(Weekly)           74\n",
       "Country                        39\n",
       "Income                          2\n",
       "dtype: int64"
      ]
     },
     "execution_count": 324,
     "metadata": {},
     "output_type": "execute_result"
    }
   ],
   "source": [
    "income_labeled.nunique()"
   ]
  },
  {
   "cell_type": "code",
   "execution_count": 325,
   "id": "ef885c0a",
   "metadata": {},
   "outputs": [
    {
     "data": {
      "text/plain": [
       "Age                            0\n",
       "Employment type              331\n",
       "Interview-dependent            0\n",
       "Education level                0\n",
       "Schooling/training period      0\n",
       "Marital Status                 0\n",
       "Employment area              331\n",
       "Partnership                    0\n",
       "Ethnicity                      0\n",
       "Gender                         0\n",
       "Gains                          0\n",
       "Losses                         0\n",
       "Working time(Weekly)           0\n",
       "Country                       97\n",
       "Income                         0\n",
       "dtype: int64"
      ]
     },
     "execution_count": 325,
     "metadata": {},
     "output_type": "execute_result"
    }
   ],
   "source": [
    "income_labeled.isna().sum()"
   ]
  },
  {
   "cell_type": "code",
   "execution_count": 326,
   "id": "3234ea7e",
   "metadata": {},
   "outputs": [],
   "source": [
    "# income_labeled[income_labeled['Employment area'].isnull()].sort_values(by=\"Working time(Weekly)\")\n",
    "# income_labeled['Country'].unique()"
   ]
  },
  {
   "cell_type": "markdown",
   "id": "cfc78f14",
   "metadata": {},
   "source": [
    "## Problem Setting"
   ]
  },
  {
   "cell_type": "markdown",
   "id": "9a43b4a3",
   "metadata": {},
   "source": [
    "## Analysis"
   ]
  },
  {
   "cell_type": "code",
   "execution_count": 327,
   "id": "3fca212b",
   "metadata": {},
   "outputs": [
    {
     "data": {
      "text/html": [
       "<div>\n",
       "<style scoped>\n",
       "    .dataframe tbody tr th:only-of-type {\n",
       "        vertical-align: middle;\n",
       "    }\n",
       "\n",
       "    .dataframe tbody tr th {\n",
       "        vertical-align: top;\n",
       "    }\n",
       "\n",
       "    .dataframe thead th {\n",
       "        text-align: right;\n",
       "    }\n",
       "</style>\n",
       "<table border=\"1\" class=\"dataframe\">\n",
       "  <thead>\n",
       "    <tr style=\"text-align: right;\">\n",
       "      <th></th>\n",
       "      <th>Age</th>\n",
       "      <th>Employment type</th>\n",
       "      <th>Interview-dependent</th>\n",
       "      <th>Education level</th>\n",
       "      <th>Schooling/training period</th>\n",
       "      <th>Marital Status</th>\n",
       "      <th>Employment area</th>\n",
       "      <th>Partnership</th>\n",
       "      <th>Ethnicity</th>\n",
       "      <th>Gender</th>\n",
       "      <th>Gains</th>\n",
       "      <th>Losses</th>\n",
       "      <th>Working time(Weekly)</th>\n",
       "      <th>Country</th>\n",
       "      <th>Income</th>\n",
       "    </tr>\n",
       "  </thead>\n",
       "  <tbody>\n",
       "    <tr>\n",
       "      <th>0</th>\n",
       "      <td>39</td>\n",
       "      <td>State-gov</td>\n",
       "      <td>77516</td>\n",
       "      <td>Bachelors</td>\n",
       "      <td>13</td>\n",
       "      <td>Never-married</td>\n",
       "      <td>Adm-clerical</td>\n",
       "      <td>Not-in-family</td>\n",
       "      <td>White</td>\n",
       "      <td>Male</td>\n",
       "      <td>2174</td>\n",
       "      <td>0</td>\n",
       "      <td>40</td>\n",
       "      <td>United-States</td>\n",
       "      <td>&lt;=50K</td>\n",
       "    </tr>\n",
       "    <tr>\n",
       "      <th>1</th>\n",
       "      <td>50</td>\n",
       "      <td>Self-emp-not-inc</td>\n",
       "      <td>83311</td>\n",
       "      <td>Bachelors</td>\n",
       "      <td>13</td>\n",
       "      <td>Married-civ-spouse</td>\n",
       "      <td>Exec-managerial</td>\n",
       "      <td>Husband</td>\n",
       "      <td>White</td>\n",
       "      <td>Male</td>\n",
       "      <td>0</td>\n",
       "      <td>0</td>\n",
       "      <td>13</td>\n",
       "      <td>United-States</td>\n",
       "      <td>&lt;=50K</td>\n",
       "    </tr>\n",
       "    <tr>\n",
       "      <th>2</th>\n",
       "      <td>38</td>\n",
       "      <td>Private</td>\n",
       "      <td>215646</td>\n",
       "      <td>HS-grad</td>\n",
       "      <td>9</td>\n",
       "      <td>Divorced</td>\n",
       "      <td>Handlers-cleaners</td>\n",
       "      <td>Not-in-family</td>\n",
       "      <td>White</td>\n",
       "      <td>Male</td>\n",
       "      <td>0</td>\n",
       "      <td>0</td>\n",
       "      <td>40</td>\n",
       "      <td>United-States</td>\n",
       "      <td>&lt;=50K</td>\n",
       "    </tr>\n",
       "    <tr>\n",
       "      <th>3</th>\n",
       "      <td>53</td>\n",
       "      <td>Private</td>\n",
       "      <td>234721</td>\n",
       "      <td>11th</td>\n",
       "      <td>7</td>\n",
       "      <td>Married-civ-spouse</td>\n",
       "      <td>Handlers-cleaners</td>\n",
       "      <td>Husband</td>\n",
       "      <td>Black</td>\n",
       "      <td>Male</td>\n",
       "      <td>0</td>\n",
       "      <td>0</td>\n",
       "      <td>40</td>\n",
       "      <td>United-States</td>\n",
       "      <td>&lt;=50K</td>\n",
       "    </tr>\n",
       "    <tr>\n",
       "      <th>4</th>\n",
       "      <td>28</td>\n",
       "      <td>Private</td>\n",
       "      <td>338409</td>\n",
       "      <td>Bachelors</td>\n",
       "      <td>13</td>\n",
       "      <td>Married-civ-spouse</td>\n",
       "      <td>Prof-specialty</td>\n",
       "      <td>Wife</td>\n",
       "      <td>Black</td>\n",
       "      <td>Female</td>\n",
       "      <td>0</td>\n",
       "      <td>0</td>\n",
       "      <td>40</td>\n",
       "      <td>Cuba</td>\n",
       "      <td>&lt;=50K</td>\n",
       "    </tr>\n",
       "  </tbody>\n",
       "</table>\n",
       "</div>"
      ],
      "text/plain": [
       "   Age    Employment type  Interview-dependent Education level  \\\n",
       "0   39          State-gov                77516       Bachelors   \n",
       "1   50   Self-emp-not-inc                83311       Bachelors   \n",
       "2   38            Private               215646         HS-grad   \n",
       "3   53            Private               234721            11th   \n",
       "4   28            Private               338409       Bachelors   \n",
       "\n",
       "   Schooling/training period       Marital Status     Employment area  \\\n",
       "0                         13        Never-married        Adm-clerical   \n",
       "1                         13   Married-civ-spouse     Exec-managerial   \n",
       "2                          9             Divorced   Handlers-cleaners   \n",
       "3                          7   Married-civ-spouse   Handlers-cleaners   \n",
       "4                         13   Married-civ-spouse      Prof-specialty   \n",
       "\n",
       "      Partnership Ethnicity   Gender  Gains  Losses  Working time(Weekly)  \\\n",
       "0   Not-in-family     White     Male   2174       0                    40   \n",
       "1         Husband     White     Male      0       0                    13   \n",
       "2   Not-in-family     White     Male      0       0                    40   \n",
       "3         Husband     Black     Male      0       0                    40   \n",
       "4            Wife     Black   Female      0       0                    40   \n",
       "\n",
       "          Country  Income  \n",
       "0   United-States   <=50K  \n",
       "1   United-States   <=50K  \n",
       "2   United-States   <=50K  \n",
       "3   United-States   <=50K  \n",
       "4            Cuba   <=50K  "
      ]
     },
     "execution_count": 327,
     "metadata": {},
     "output_type": "execute_result"
    }
   ],
   "source": [
    "# Look at input values\n",
    "income_labeled.head()"
   ]
  },
  {
   "cell_type": "code",
   "execution_count": 328,
   "id": "7d0c471b",
   "metadata": {},
   "outputs": [
    {
     "data": {
      "text/html": [
       "<div>\n",
       "<style scoped>\n",
       "    .dataframe tbody tr th:only-of-type {\n",
       "        vertical-align: middle;\n",
       "    }\n",
       "\n",
       "    .dataframe tbody tr th {\n",
       "        vertical-align: top;\n",
       "    }\n",
       "\n",
       "    .dataframe thead th {\n",
       "        text-align: right;\n",
       "    }\n",
       "</style>\n",
       "<table border=\"1\" class=\"dataframe\">\n",
       "  <thead>\n",
       "    <tr style=\"text-align: right;\">\n",
       "      <th></th>\n",
       "      <th>Age</th>\n",
       "      <th>Interview-dependent</th>\n",
       "      <th>Schooling/training period</th>\n",
       "      <th>Gains</th>\n",
       "      <th>Losses</th>\n",
       "      <th>Working time(Weekly)</th>\n",
       "    </tr>\n",
       "  </thead>\n",
       "  <tbody>\n",
       "    <tr>\n",
       "      <th>count</th>\n",
       "      <td>5000.000000</td>\n",
       "      <td>5.000000e+03</td>\n",
       "      <td>5000.000000</td>\n",
       "      <td>5000.000000</td>\n",
       "      <td>5000.000000</td>\n",
       "      <td>5000.000000</td>\n",
       "    </tr>\n",
       "    <tr>\n",
       "      <th>mean</th>\n",
       "      <td>38.600200</td>\n",
       "      <td>1.907684e+05</td>\n",
       "      <td>10.079600</td>\n",
       "      <td>1033.640200</td>\n",
       "      <td>93.696800</td>\n",
       "      <td>40.519000</td>\n",
       "    </tr>\n",
       "    <tr>\n",
       "      <th>std</th>\n",
       "      <td>13.594695</td>\n",
       "      <td>1.063596e+05</td>\n",
       "      <td>2.534906</td>\n",
       "      <td>7051.802077</td>\n",
       "      <td>410.801418</td>\n",
       "      <td>12.109193</td>\n",
       "    </tr>\n",
       "    <tr>\n",
       "      <th>min</th>\n",
       "      <td>17.000000</td>\n",
       "      <td>1.930200e+04</td>\n",
       "      <td>1.000000</td>\n",
       "      <td>0.000000</td>\n",
       "      <td>0.000000</td>\n",
       "      <td>1.000000</td>\n",
       "    </tr>\n",
       "    <tr>\n",
       "      <th>25%</th>\n",
       "      <td>28.000000</td>\n",
       "      <td>1.176958e+05</td>\n",
       "      <td>9.000000</td>\n",
       "      <td>0.000000</td>\n",
       "      <td>0.000000</td>\n",
       "      <td>40.000000</td>\n",
       "    </tr>\n",
       "    <tr>\n",
       "      <th>50%</th>\n",
       "      <td>37.000000</td>\n",
       "      <td>1.794750e+05</td>\n",
       "      <td>10.000000</td>\n",
       "      <td>0.000000</td>\n",
       "      <td>0.000000</td>\n",
       "      <td>40.000000</td>\n",
       "    </tr>\n",
       "    <tr>\n",
       "      <th>75%</th>\n",
       "      <td>47.000000</td>\n",
       "      <td>2.416575e+05</td>\n",
       "      <td>12.000000</td>\n",
       "      <td>0.000000</td>\n",
       "      <td>0.000000</td>\n",
       "      <td>45.000000</td>\n",
       "    </tr>\n",
       "    <tr>\n",
       "      <th>max</th>\n",
       "      <td>90.000000</td>\n",
       "      <td>1.033222e+06</td>\n",
       "      <td>16.000000</td>\n",
       "      <td>99999.000000</td>\n",
       "      <td>2547.000000</td>\n",
       "      <td>99.000000</td>\n",
       "    </tr>\n",
       "  </tbody>\n",
       "</table>\n",
       "</div>"
      ],
      "text/plain": [
       "               Age  Interview-dependent  Schooling/training period  \\\n",
       "count  5000.000000         5.000000e+03                5000.000000   \n",
       "mean     38.600200         1.907684e+05                  10.079600   \n",
       "std      13.594695         1.063596e+05                   2.534906   \n",
       "min      17.000000         1.930200e+04                   1.000000   \n",
       "25%      28.000000         1.176958e+05                   9.000000   \n",
       "50%      37.000000         1.794750e+05                  10.000000   \n",
       "75%      47.000000         2.416575e+05                  12.000000   \n",
       "max      90.000000         1.033222e+06                  16.000000   \n",
       "\n",
       "              Gains       Losses  Working time(Weekly)  \n",
       "count   5000.000000  5000.000000           5000.000000  \n",
       "mean    1033.640200    93.696800             40.519000  \n",
       "std     7051.802077   410.801418             12.109193  \n",
       "min        0.000000     0.000000              1.000000  \n",
       "25%        0.000000     0.000000             40.000000  \n",
       "50%        0.000000     0.000000             40.000000  \n",
       "75%        0.000000     0.000000             45.000000  \n",
       "max    99999.000000  2547.000000             99.000000  "
      ]
     },
     "execution_count": 328,
     "metadata": {},
     "output_type": "execute_result"
    }
   ],
   "source": [
    "income_labeled.describe()"
   ]
  },
  {
   "cell_type": "code",
   "execution_count": 329,
   "id": "b62fd0b6",
   "metadata": {},
   "outputs": [
    {
     "data": {
      "image/png": "[encoded data removed]",
      "text/plain": [
       "<Figure size 432x288 with 1 Axes>"
      ]
     },
     "metadata": {
      "needs_background": "light"
     },
     "output_type": "display_data"
    }
   ],
   "source": [
    "# Check balance between label that has to be predicted\n",
    "target_distribution = income_labeled['Income'].value_counts().plot(kind='bar')"
   ]
  },
  {
   "cell_type": "code",
   "execution_count": 330,
   "id": "597b04e7",
   "metadata": {},
   "outputs": [
    {
     "data": {
      "image/png": "[encoded data removed]",
      "text/plain": [
       "<Figure size 432x288 with 6 Axes>"
      ]
     },
     "metadata": {
      "needs_background": "light"
     },
     "output_type": "display_data"
    }
   ],
   "source": [
    "# Check how numeric values are distributed\n",
    "numeric_distribution = income_labeled.hist()"
   ]
  },
  {
   "cell_type": "code",
   "execution_count": 331,
   "id": "49dce86b",
   "metadata": {},
   "outputs": [
    {
     "data": {
      "text/plain": [
       "[Text(1, 0, 'Age'),\n",
       " Text(2, 0, 'Schooling/training period'),\n",
       " Text(3, 0, 'Working time(Weekly)')]"
      ]
     },
     "execution_count": 331,
     "metadata": {},
     "output_type": "execute_result"
    },
    {
     "data": {
      "image/png": "[encoded data removed]",
      "text/plain": [
       "<Figure size 432x288 with 1 Axes>"
      ]
     },
     "metadata": {
      "needs_background": "light"
     },
     "output_type": "display_data"
    }
   ],
   "source": [
    "ax = income_labeled.drop(['Interview-dependent', 'Gains', 'Losses',], axis=1).boxplot()\n",
    "ax.set_xticklabels(ax.get_xticklabels(),rotation=30)"
   ]
  },
  {
   "cell_type": "code",
   "execution_count": 332,
   "id": "a2bdb86a",
   "metadata": {},
   "outputs": [
    {
     "data": {
      "image/png": "[encoded data removed]",
      "text/plain": [
       "<Figure size 432x288 with 1 Axes>"
      ]
     },
     "metadata": {
      "needs_background": "light"
     },
     "output_type": "display_data"
    }
   ],
   "source": [
    "employment_type_distribution = income_labeled['Employment type'].value_counts().plot(kind='bar')"
   ]
  },
  {
   "cell_type": "code",
   "execution_count": 333,
   "id": "e573d7bc",
   "metadata": {},
   "outputs": [
    {
     "data": {
      "image/png": "[encoded data removed]",
      "text/plain": [
       "<Figure size 432x288 with 1 Axes>"
      ]
     },
     "metadata": {
      "needs_background": "light"
     },
     "output_type": "display_data"
    }
   ],
   "source": [
    "education_distribution = income_labeled['Education level'].value_counts().plot(kind='bar')"
   ]
  },
  {
   "cell_type": "code",
   "execution_count": 334,
   "id": "8d78ebd1",
   "metadata": {},
   "outputs": [
    {
     "data": {
      "image/png": "[encoded data removed]",
      "text/plain": [
       "<Figure size 432x288 with 1 Axes>"
      ]
     },
     "metadata": {
      "needs_background": "light"
     },
     "output_type": "display_data"
    }
   ],
   "source": [
    "maritial_status_distribution = income_labeled['Marital Status'].value_counts().plot(kind='bar')"
   ]
  },
  {
   "cell_type": "code",
   "execution_count": 335,
   "id": "e8b8009f",
   "metadata": {},
   "outputs": [
    {
     "data": {
      "image/png": "[encoded data removed]",
      "text/plain": [
       "<Figure size 432x288 with 1 Axes>"
      ]
     },
     "metadata": {
      "needs_background": "light"
     },
     "output_type": "display_data"
    }
   ],
   "source": [
    "employment_area_distribution = income_labeled['Employment area'].value_counts().plot(kind='bar')"
   ]
  },
  {
   "cell_type": "code",
   "execution_count": 336,
   "id": "2fe30f9a",
   "metadata": {},
   "outputs": [
    {
     "data": {
      "image/png": "[encoded data removed]",
      "text/plain": [
       "<Figure size 432x288 with 1 Axes>"
      ]
     },
     "metadata": {
      "needs_background": "light"
     },
     "output_type": "display_data"
    }
   ],
   "source": [
    "partnership_distributon = income_labeled['Partnership'].value_counts().plot(kind='bar')"
   ]
  },
  {
   "cell_type": "code",
   "execution_count": 337,
   "id": "50015d9f",
   "metadata": {},
   "outputs": [
    {
     "data": {
      "image/png": "[encoded data removed]",
      "text/plain": [
       "<Figure size 432x288 with 1 Axes>"
      ]
     },
     "metadata": {
      "needs_background": "light"
     },
     "output_type": "display_data"
    }
   ],
   "source": [
    "ethnicity_distribution = income_labeled['Ethnicity'].value_counts().plot(kind='bar')"
   ]
  },
  {
   "cell_type": "code",
   "execution_count": 338,
   "id": "aacd30bc",
   "metadata": {},
   "outputs": [
    {
     "data": {
      "image/png": "[encoded data removed]",
      "text/plain": [
       "<Figure size 432x288 with 1 Axes>"
      ]
     },
     "metadata": {
      "needs_background": "light"
     },
     "output_type": "display_data"
    }
   ],
   "source": [
    "gender_distribution = income_labeled['Gender'].value_counts().plot(kind='bar')"
   ]
  },
  {
   "cell_type": "code",
   "execution_count": 339,
   "id": "adab4ba4",
   "metadata": {},
   "outputs": [
    {
     "data": {
      "image/png": "[encoded data removed]",
      "text/plain": [
       "<Figure size 432x288 with 1 Axes>"
      ]
     },
     "metadata": {
      "needs_background": "light"
     },
     "output_type": "display_data"
    }
   ],
   "source": [
    "country_distribution = income_labeled['Country'].value_counts().plot(kind='bar')"
   ]
  },
  {
   "cell_type": "markdown",
   "id": "6abd4986",
   "metadata": {},
   "source": [
    "## Data Preparation"
   ]
  },
  {
   "cell_type": "code",
   "execution_count": 340,
   "id": "fca9dcfe",
   "metadata": {},
   "outputs": [
    {
     "name": "stdout",
     "output_type": "stream",
     "text": [
      "Age                            0\n",
      "Employment type              331\n",
      "Interview-dependent            0\n",
      "Education level                0\n",
      "Schooling/training period      0\n",
      "Marital Status                 0\n",
      "Employment area              331\n",
      "Partnership                    0\n",
      "Ethnicity                      0\n",
      "Gender                         0\n",
      "Gains                          0\n",
      "Losses                         0\n",
      "Working time(Weekly)           0\n",
      "Country                       97\n",
      "Income                         0\n",
      "dtype: int64\n"
     ]
    },
    {
     "data": {
      "text/html": [
       "<div>\n",
       "<style scoped>\n",
       "    .dataframe tbody tr th:only-of-type {\n",
       "        vertical-align: middle;\n",
       "    }\n",
       "\n",
       "    .dataframe tbody tr th {\n",
       "        vertical-align: top;\n",
       "    }\n",
       "\n",
       "    .dataframe thead th {\n",
       "        text-align: right;\n",
       "    }\n",
       "</style>\n",
       "<table border=\"1\" class=\"dataframe\">\n",
       "  <thead>\n",
       "    <tr style=\"text-align: right;\">\n",
       "      <th></th>\n",
       "      <th>Age</th>\n",
       "      <th>Employment type</th>\n",
       "      <th>Interview-dependent</th>\n",
       "      <th>Education level</th>\n",
       "      <th>Schooling/training period</th>\n",
       "      <th>Marital Status</th>\n",
       "      <th>Employment area</th>\n",
       "      <th>Partnership</th>\n",
       "      <th>Ethnicity</th>\n",
       "      <th>Gender</th>\n",
       "      <th>Gains</th>\n",
       "      <th>Losses</th>\n",
       "      <th>Working time(Weekly)</th>\n",
       "      <th>Country</th>\n",
       "      <th>Income</th>\n",
       "    </tr>\n",
       "  </thead>\n",
       "  <tbody>\n",
       "    <tr>\n",
       "      <th>27</th>\n",
       "      <td>54</td>\n",
       "      <td>NaN</td>\n",
       "      <td>180211</td>\n",
       "      <td>Some-college</td>\n",
       "      <td>10</td>\n",
       "      <td>Married-civ-spouse</td>\n",
       "      <td>NaN</td>\n",
       "      <td>Husband</td>\n",
       "      <td>Asian-Pac-Islander</td>\n",
       "      <td>Male</td>\n",
       "      <td>0</td>\n",
       "      <td>0</td>\n",
       "      <td>60</td>\n",
       "      <td>South</td>\n",
       "      <td>&gt;50K</td>\n",
       "    </tr>\n",
       "    <tr>\n",
       "      <th>61</th>\n",
       "      <td>32</td>\n",
       "      <td>NaN</td>\n",
       "      <td>293936</td>\n",
       "      <td>7th-8th</td>\n",
       "      <td>4</td>\n",
       "      <td>Married-spouse-absent</td>\n",
       "      <td>NaN</td>\n",
       "      <td>Not-in-family</td>\n",
       "      <td>White</td>\n",
       "      <td>Male</td>\n",
       "      <td>0</td>\n",
       "      <td>0</td>\n",
       "      <td>40</td>\n",
       "      <td>NaN</td>\n",
       "      <td>&lt;=50K</td>\n",
       "    </tr>\n",
       "    <tr>\n",
       "      <th>69</th>\n",
       "      <td>25</td>\n",
       "      <td>NaN</td>\n",
       "      <td>200681</td>\n",
       "      <td>Some-college</td>\n",
       "      <td>10</td>\n",
       "      <td>Never-married</td>\n",
       "      <td>NaN</td>\n",
       "      <td>Own-child</td>\n",
       "      <td>White</td>\n",
       "      <td>Male</td>\n",
       "      <td>0</td>\n",
       "      <td>0</td>\n",
       "      <td>40</td>\n",
       "      <td>United-States</td>\n",
       "      <td>&lt;=50K</td>\n",
       "    </tr>\n",
       "    <tr>\n",
       "      <th>77</th>\n",
       "      <td>67</td>\n",
       "      <td>NaN</td>\n",
       "      <td>212759</td>\n",
       "      <td>10th</td>\n",
       "      <td>6</td>\n",
       "      <td>Married-civ-spouse</td>\n",
       "      <td>NaN</td>\n",
       "      <td>Husband</td>\n",
       "      <td>White</td>\n",
       "      <td>Male</td>\n",
       "      <td>0</td>\n",
       "      <td>0</td>\n",
       "      <td>2</td>\n",
       "      <td>United-States</td>\n",
       "      <td>&lt;=50K</td>\n",
       "    </tr>\n",
       "    <tr>\n",
       "      <th>106</th>\n",
       "      <td>17</td>\n",
       "      <td>NaN</td>\n",
       "      <td>304873</td>\n",
       "      <td>10th</td>\n",
       "      <td>6</td>\n",
       "      <td>Never-married</td>\n",
       "      <td>NaN</td>\n",
       "      <td>Own-child</td>\n",
       "      <td>White</td>\n",
       "      <td>Female</td>\n",
       "      <td>34095</td>\n",
       "      <td>0</td>\n",
       "      <td>32</td>\n",
       "      <td>United-States</td>\n",
       "      <td>&lt;=50K</td>\n",
       "    </tr>\n",
       "    <tr>\n",
       "      <th>...</th>\n",
       "      <td>...</td>\n",
       "      <td>...</td>\n",
       "      <td>...</td>\n",
       "      <td>...</td>\n",
       "      <td>...</td>\n",
       "      <td>...</td>\n",
       "      <td>...</td>\n",
       "      <td>...</td>\n",
       "      <td>...</td>\n",
       "      <td>...</td>\n",
       "      <td>...</td>\n",
       "      <td>...</td>\n",
       "      <td>...</td>\n",
       "      <td>...</td>\n",
       "      <td>...</td>\n",
       "    </tr>\n",
       "    <tr>\n",
       "      <th>4942</th>\n",
       "      <td>17</td>\n",
       "      <td>NaN</td>\n",
       "      <td>139183</td>\n",
       "      <td>10th</td>\n",
       "      <td>6</td>\n",
       "      <td>Never-married</td>\n",
       "      <td>NaN</td>\n",
       "      <td>Own-child</td>\n",
       "      <td>White</td>\n",
       "      <td>Female</td>\n",
       "      <td>0</td>\n",
       "      <td>0</td>\n",
       "      <td>15</td>\n",
       "      <td>United-States</td>\n",
       "      <td>&lt;=50K</td>\n",
       "    </tr>\n",
       "    <tr>\n",
       "      <th>4958</th>\n",
       "      <td>20</td>\n",
       "      <td>NaN</td>\n",
       "      <td>293136</td>\n",
       "      <td>Some-college</td>\n",
       "      <td>10</td>\n",
       "      <td>Never-married</td>\n",
       "      <td>NaN</td>\n",
       "      <td>Own-child</td>\n",
       "      <td>White</td>\n",
       "      <td>Female</td>\n",
       "      <td>0</td>\n",
       "      <td>0</td>\n",
       "      <td>35</td>\n",
       "      <td>United-States</td>\n",
       "      <td>&lt;=50K</td>\n",
       "    </tr>\n",
       "    <tr>\n",
       "      <th>4970</th>\n",
       "      <td>51</td>\n",
       "      <td>NaN</td>\n",
       "      <td>203953</td>\n",
       "      <td>HS-grad</td>\n",
       "      <td>9</td>\n",
       "      <td>Married-civ-spouse</td>\n",
       "      <td>NaN</td>\n",
       "      <td>Husband</td>\n",
       "      <td>White</td>\n",
       "      <td>Male</td>\n",
       "      <td>0</td>\n",
       "      <td>0</td>\n",
       "      <td>40</td>\n",
       "      <td>United-States</td>\n",
       "      <td>&gt;50K</td>\n",
       "    </tr>\n",
       "    <tr>\n",
       "      <th>4980</th>\n",
       "      <td>45</td>\n",
       "      <td>NaN</td>\n",
       "      <td>144354</td>\n",
       "      <td>9th</td>\n",
       "      <td>5</td>\n",
       "      <td>Separated</td>\n",
       "      <td>NaN</td>\n",
       "      <td>Own-child</td>\n",
       "      <td>Black</td>\n",
       "      <td>Male</td>\n",
       "      <td>0</td>\n",
       "      <td>0</td>\n",
       "      <td>40</td>\n",
       "      <td>United-States</td>\n",
       "      <td>&lt;=50K</td>\n",
       "    </tr>\n",
       "    <tr>\n",
       "      <th>4982</th>\n",
       "      <td>22</td>\n",
       "      <td>NaN</td>\n",
       "      <td>99543</td>\n",
       "      <td>Some-college</td>\n",
       "      <td>10</td>\n",
       "      <td>Never-married</td>\n",
       "      <td>NaN</td>\n",
       "      <td>Own-child</td>\n",
       "      <td>White</td>\n",
       "      <td>Male</td>\n",
       "      <td>0</td>\n",
       "      <td>0</td>\n",
       "      <td>20</td>\n",
       "      <td>United-States</td>\n",
       "      <td>&lt;=50K</td>\n",
       "    </tr>\n",
       "  </tbody>\n",
       "</table>\n",
       "<p>331 rows × 15 columns</p>\n",
       "</div>"
      ],
      "text/plain": [
       "      Age Employment type  Interview-dependent Education level  \\\n",
       "27     54             NaN               180211    Some-college   \n",
       "61     32             NaN               293936         7th-8th   \n",
       "69     25             NaN               200681    Some-college   \n",
       "77     67             NaN               212759            10th   \n",
       "106    17             NaN               304873            10th   \n",
       "...   ...             ...                  ...             ...   \n",
       "4942   17             NaN               139183            10th   \n",
       "4958   20             NaN               293136    Some-college   \n",
       "4970   51             NaN               203953         HS-grad   \n",
       "4980   45             NaN               144354             9th   \n",
       "4982   22             NaN                99543    Some-college   \n",
       "\n",
       "      Schooling/training period          Marital Status Employment area  \\\n",
       "27                           10      Married-civ-spouse             NaN   \n",
       "61                            4   Married-spouse-absent             NaN   \n",
       "69                           10           Never-married             NaN   \n",
       "77                            6      Married-civ-spouse             NaN   \n",
       "106                           6           Never-married             NaN   \n",
       "...                         ...                     ...             ...   \n",
       "4942                          6           Never-married             NaN   \n",
       "4958                         10           Never-married             NaN   \n",
       "4970                          9      Married-civ-spouse             NaN   \n",
       "4980                          5               Separated             NaN   \n",
       "4982                         10           Never-married             NaN   \n",
       "\n",
       "         Partnership            Ethnicity   Gender  Gains  Losses  \\\n",
       "27           Husband   Asian-Pac-Islander     Male      0       0   \n",
       "61     Not-in-family                White     Male      0       0   \n",
       "69         Own-child                White     Male      0       0   \n",
       "77           Husband                White     Male      0       0   \n",
       "106        Own-child                White   Female  34095       0   \n",
       "...              ...                  ...      ...    ...     ...   \n",
       "4942       Own-child                White   Female      0       0   \n",
       "4958       Own-child                White   Female      0       0   \n",
       "4970         Husband                White     Male      0       0   \n",
       "4980       Own-child                Black     Male      0       0   \n",
       "4982       Own-child                White     Male      0       0   \n",
       "\n",
       "      Working time(Weekly)         Country  Income  \n",
       "27                      60           South    >50K  \n",
       "61                      40             NaN   <=50K  \n",
       "69                      40   United-States   <=50K  \n",
       "77                       2   United-States   <=50K  \n",
       "106                     32   United-States   <=50K  \n",
       "...                    ...             ...     ...  \n",
       "4942                    15   United-States   <=50K  \n",
       "4958                    35   United-States   <=50K  \n",
       "4970                    40   United-States    >50K  \n",
       "4980                    40   United-States   <=50K  \n",
       "4982                    20   United-States   <=50K  \n",
       "\n",
       "[331 rows x 15 columns]"
      ]
     },
     "execution_count": 340,
     "metadata": {},
     "output_type": "execute_result"
    }
   ],
   "source": [
    "## Handling Missing Values\n",
    "print(income_labeled.isna().sum())\n",
    "\n",
    "# income_labeled = income_labeled.dropna()\n",
    "\n",
    "# print(income_labeled.nunique())\n",
    "\n",
    "income_labeled[income_labeled['Employment area'].isnull()]\n",
    "\n",
    "\n",
    "# income_labeled['Employment area'].unique()"
   ]
  },
  {
   "cell_type": "code",
   "execution_count": 341,
   "id": "82742774",
   "metadata": {},
   "outputs": [],
   "source": [
    "from sklearn.preprocessing import OrdinalEncoder\n",
    "\n",
    "# Ordinal Encoding for Education Level\n",
    "education_level = ['Preschool','1st-4th', '5th-6th', '7th-8th', '9th', '10th', '11th', '12th', 'HS-grad', 'Prof-school', 'Assoc-acdm', 'Assoc-voc', 'Some-college', 'Bachelors', 'Masters', 'Doctorate']\n",
    "oe_edu = OrdinalEncoder(categories=[education_level])\n",
    "\n",
    "income_labeled['Education level'] = income_labeled['Education level'].str.strip()\n",
    "income_labeled['Education level'] = oe_edu.fit_transform(income_labeled[['Education level']])"
   ]
  },
  {
   "cell_type": "code",
   "execution_count": 342,
   "id": "029cdb82",
   "metadata": {},
   "outputs": [],
   "source": [
    "# One-Hot Encoding\n",
    "# Employment Type, Marital status, Employment Area, Partnership, Ethnicity, Gender, Country\n",
    "one_hot_columns = ['Employment type', 'Marital Status', 'Employment area', 'Partnership', 'Ethnicity', 'Gender', 'Country']\n",
    "income_labeled = pd.get_dummies(income_labeled, columns=one_hot_columns)\n"
   ]
  },
  {
   "cell_type": "code",
   "execution_count": 343,
   "id": "dca909d1",
   "metadata": {},
   "outputs": [],
   "source": [
    "from sklearn.preprocessing import OneHotEncoder\n",
    "\n",
    "# One-Hot Encode categorical variables\n",
    "income_labeled['Income'].replace([' <=50K', ' >50K'], [0, 1], inplace=True)"
   ]
  },
  {
   "cell_type": "code",
   "execution_count": 344,
   "id": "49efe821",
   "metadata": {},
   "outputs": [],
   "source": [
    "# Standardization / Z-Score Normalization\n"
   ]
  },
  {
   "cell_type": "code",
   "execution_count": 345,
   "id": "98d22041",
   "metadata": {},
   "outputs": [],
   "source": [
    "from sklearn.model_selection import train_test_split\n",
    "\n",
    "# Train / Test-Split\n",
    "income_X_train, income_X_test, income_y_train, income_y_test = train_test_split(income_labeled.drop('Income', axis=1), income_labeled['Income'], test_size=0.25, random_state=42)"
   ]
  },
  {
   "cell_type": "markdown",
   "id": "f679c9bd",
   "metadata": {},
   "source": [
    "## Methods (& Experiments)"
   ]
  },
  {
   "cell_type": "markdown",
   "id": "c99c15ab",
   "metadata": {},
   "source": [
    "### Linear Classification"
   ]
  },
  {
   "cell_type": "code",
   "execution_count": 346,
   "id": "fd542b71",
   "metadata": {},
   "outputs": [
    {
     "data": {
      "text/plain": [
       "0.7304"
      ]
     },
     "execution_count": 346,
     "metadata": {},
     "output_type": "execute_result"
    }
   ],
   "source": [
    "from sklearn import svm\n",
    "from sklearn.metrics import accuracy_score\n",
    "\n",
    "clf = svm.SVC(random_state=42)\n",
    "clf.fit(income_X_train, income_y_train)\n",
    "\n",
    "income_y_pred = clf.predict(income_X_test)\n",
    "\n",
    "accuracy_score(income_y_test, income_y_pred)"
   ]
  },
  {
   "cell_type": "markdown",
   "id": "f07880ef",
   "metadata": {},
   "source": [
    "### Decision Trees"
   ]
  },
  {
   "cell_type": "code",
   "execution_count": 347,
   "id": "1221fc00",
   "metadata": {},
   "outputs": [
    {
     "data": {
      "text/plain": [
       "0.7824"
      ]
     },
     "execution_count": 347,
     "metadata": {},
     "output_type": "execute_result"
    },
    {
     "data": {
      "image/png": "[encoded data removed]",
      "text/plain": [
       "<Figure size 432x288 with 1 Axes>"
      ]
     },
     "metadata": {
      "needs_background": "light"
     },
     "output_type": "display_data"
    }
   ],
   "source": [
    "from sklearn import tree\n",
    "\n",
    "clf = tree.DecisionTreeClassifier(random_state=42)\n",
    "clf = clf.fit(income_X_train, income_y_train)\n",
    "tree.plot_tree(clf, max_depth=2, fontsize=8, feature_names=income_X_train.columns, filled=True, class_names=[\"below\", \"above\"])\n",
    "\n",
    "income_y_pred = clf.predict(income_X_test)\n",
    "\n",
    "accuracy_score(income_y_test, income_y_pred)"
   ]
  },
  {
   "cell_type": "markdown",
   "id": "ea0af9a0",
   "metadata": {},
   "source": [
    "## Conclusion"
   ]
  },
  {
   "cell_type": "markdown",
   "id": "965fcef2",
   "metadata": {},
   "source": []
  }
 ],
 "metadata": {
  "kernelspec": {
   "display_name": "Python 3.10.4 64-bit",
   "language": "python",
   "name": "python3"
  },
  "language_info": {
   "codemirror_mode": {
    "name": "ipython",
    "version": 3
   },
   "file_extension": ".py",
   "mimetype": "text/x-python",
   "name": "python",
   "nbconvert_exporter": "python",
   "pygments_lexer": "ipython3",
   "version": "3.10.4"
  },
  "toc": {
   "base_numbering": 1,
   "nav_menu": {},
   "number_sections": true,
   "sideBar": true,
   "skip_h1_title": true,
   "title_cell": "Table of Contents",
   "title_sidebar": "Contents",
   "toc_cell": false,
   "toc_position": {
    "height": "calc(100% - 180px)",
    "left": "10px",
    "top": "150px",
    "width": "240px"
   },
   "toc_section_display": true,
   "toc_window_display": true
  },
  "vscode": {
   "interpreter": {
    "hash": "aee8b7b246df8f9039afb4144a1f6fd8d2ca17a180786b69acc140d282b71a49"
   }
  }
 },
 "nbformat": 4,
 "nbformat_minor": 5
}
