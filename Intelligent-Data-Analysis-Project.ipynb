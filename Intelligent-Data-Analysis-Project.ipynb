{
 "cells": [
  {
   "cell_type": "code",
   "execution_count": 2,
   "id": "ee933e75",
   "metadata": {},
   "outputs": [],
   "source": [
    "import pandas as pd\n",
    "import scipy.io"
   ]
  },
  {
   "cell_type": "markdown",
   "id": "3d7b4ad0",
   "metadata": {},
   "source": [
    "# Intelligent Data Analysis Project"
   ]
  },
  {
   "cell_type": "markdown",
   "id": "4fcf6970",
   "metadata": {},
   "source": []
  },
  {
   "cell_type": "markdown",
   "id": "0bedaa65",
   "metadata": {},
   "source": [
    "## Income"
   ]
  },
  {
   "cell_type": "code",
   "execution_count": 5,
   "id": "9cb9d93c",
   "metadata": {},
   "outputs": [],
   "source": [
    "income = pd.read_csv('data/income/einkommen.train', sep=\",\", na_values = \" ?\", header=None)\n",
    "\n",
    "columns = [\"Age\", \"Employment type\", \"Interview-dependent\", \"Education level\", \"Schooling/training period\", \"Marital Status\", \"Employment area\", \"Partnership\", \"Ethnicity\", \"Gender\", \"Gains\", \"Losses\", \"Working time(Weekly)\", \"Country\", \"Income\"]\n",
    "income.columns = columns\n",
    "# display(income)"
   ]
  },
  {
   "cell_type": "markdown",
   "id": "70019884",
   "metadata": {},
   "source": [
    "## Credit"
   ]
  },
  {
   "cell_type": "code",
   "execution_count": 9,
   "id": "b6821b5c",
   "metadata": {},
   "outputs": [],
   "source": [
    "credit = pd.read_csv('data/credit/kredit.dat', sep=\"\\t\", header=None, na_values=\"?\")\n",
    "\n",
    "columns = ['status','duration','credit_history','purpose','credit_amount','savings_account/bonds', 'present_employement_since','installment_rate','personal_status_and_sex','other_debtors/guarantors', 'present_residence_since','property','age','other_installment_plans','housing', 'number_of_existing_credits','job','number_of_people_being_liable','telephone','foreign_worker', 'creditworthy']\n",
    "credit.columns = columns\n",
    "# display(credit)"
   ]
  },
  {
   "cell_type": "markdown",
   "id": "e5b023ef",
   "metadata": {},
   "source": [
    "## Insurance"
   ]
  },
  {
   "cell_type": "code",
   "execution_count": 12,
   "id": "950a5187",
   "metadata": {},
   "outputs": [],
   "source": [
    "# More information about the dataset: https://liacs.leidenuniv.nl/~puttenpwhvander/library/cc2000/data.html\n",
    "\n",
    "# Data Dictionary (not direct need to read in to the notebook)\n",
    "insurance_info = pd.read_csv('data/insurance/Insurance/caravan.info', sep='\\t', header=None, encoding='cp1252')\n",
    "\n",
    "insurance_test = pd.read_csv('data/insurance/Insurance/caravan.test', sep='\\t', header=None, encoding='cp1252')\n",
    "insurance_train = pd.read_csv('data/insurance/Insurance/caravan.train', sep='\\t', header=None, encoding='cp1252')\n",
    "# display(insurance_test)\n",
    "# display(insurance_train)"
   ]
  }
 ],
 "metadata": {
  "kernelspec": {
   "display_name": "Python 3 (ipykernel)",
   "language": "python",
   "name": "python3"
  },
  "language_info": {
   "codemirror_mode": {
    "name": "ipython",
    "version": 3
   },
   "file_extension": ".py",
   "mimetype": "text/x-python",
   "name": "python",
   "nbconvert_exporter": "python",
   "pygments_lexer": "ipython3",
   "version": "3.10.4"
  },
  "toc": {
   "base_numbering": 1,
   "nav_menu": {},
   "number_sections": true,
   "sideBar": true,
   "skip_h1_title": false,
   "title_cell": "Table of Contents",
   "title_sidebar": "Contents",
   "toc_cell": false,
   "toc_position": {},
   "toc_section_display": true,
   "toc_window_display": true
  }
 },
 "nbformat": 4,
 "nbformat_minor": 5
}
